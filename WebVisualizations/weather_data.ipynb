{
 "metadata": {
  "language_info": {
   "codemirror_mode": {
    "name": "ipython",
    "version": 3
   },
   "file_extension": ".py",
   "mimetype": "text/x-python",
   "name": "python",
   "nbconvert_exporter": "python",
   "pygments_lexer": "ipython3",
   "version": "3.6.10-final"
  },
  "orig_nbformat": 2,
  "kernelspec": {
   "name": "python3",
   "display_name": "Python 3"
  }
 },
 "nbformat": 4,
 "nbformat_minor": 2,
 "cells": [
  {
   "cell_type": "code",
   "execution_count": 1,
   "metadata": {},
   "outputs": [],
   "source": [
    "# Import dependency\n",
    "import pandas as pd"
   ]
  },
  {
   "cell_type": "code",
   "execution_count": 2,
   "metadata": {},
   "outputs": [
    {
     "output_type": "execute_result",
     "data": {
      "text/plain": [
       "              City    Lat     Lng  Max Temp  Humidity  Cloudiness  Wind Speed  \\\n",
       "0       georgetown   5.41  100.34      26.0      83.0        20.0         3.1   \n",
       "1  arraial do cabo -22.97  -42.03      26.0      78.0        23.0         5.7   \n",
       "2         meiganga   6.52   14.30      27.3      64.0        93.0         2.6   \n",
       "3   saint-philippe -21.36   55.77      25.0      69.0        90.0         3.6   \n",
       "4   ribeira grande  38.52  -28.70      21.0      73.0        75.0         3.6   \n",
       "\n",
       "  Country          Date  \n",
       "0      MY  1.601638e+09  \n",
       "1      BR  1.601638e+09  \n",
       "2      CM  1.601639e+09  \n",
       "3      RE  1.601638e+09  \n",
       "4      PT  1.601638e+09  "
      ],
      "text/html": "<div>\n<style scoped>\n    .dataframe tbody tr th:only-of-type {\n        vertical-align: middle;\n    }\n\n    .dataframe tbody tr th {\n        vertical-align: top;\n    }\n\n    .dataframe thead th {\n        text-align: right;\n    }\n</style>\n<table border=\"1\" class=\"dataframe\">\n  <thead>\n    <tr style=\"text-align: right;\">\n      <th></th>\n      <th>City</th>\n      <th>Lat</th>\n      <th>Lng</th>\n      <th>Max Temp</th>\n      <th>Humidity</th>\n      <th>Cloudiness</th>\n      <th>Wind Speed</th>\n      <th>Country</th>\n      <th>Date</th>\n    </tr>\n  </thead>\n  <tbody>\n    <tr>\n      <th>0</th>\n      <td>georgetown</td>\n      <td>5.41</td>\n      <td>100.34</td>\n      <td>26.0</td>\n      <td>83.0</td>\n      <td>20.0</td>\n      <td>3.1</td>\n      <td>MY</td>\n      <td>1.601638e+09</td>\n    </tr>\n    <tr>\n      <th>1</th>\n      <td>arraial do cabo</td>\n      <td>-22.97</td>\n      <td>-42.03</td>\n      <td>26.0</td>\n      <td>78.0</td>\n      <td>23.0</td>\n      <td>5.7</td>\n      <td>BR</td>\n      <td>1.601638e+09</td>\n    </tr>\n    <tr>\n      <th>2</th>\n      <td>meiganga</td>\n      <td>6.52</td>\n      <td>14.30</td>\n      <td>27.3</td>\n      <td>64.0</td>\n      <td>93.0</td>\n      <td>2.6</td>\n      <td>CM</td>\n      <td>1.601639e+09</td>\n    </tr>\n    <tr>\n      <th>3</th>\n      <td>saint-philippe</td>\n      <td>-21.36</td>\n      <td>55.77</td>\n      <td>25.0</td>\n      <td>69.0</td>\n      <td>90.0</td>\n      <td>3.6</td>\n      <td>RE</td>\n      <td>1.601638e+09</td>\n    </tr>\n    <tr>\n      <th>4</th>\n      <td>ribeira grande</td>\n      <td>38.52</td>\n      <td>-28.70</td>\n      <td>21.0</td>\n      <td>73.0</td>\n      <td>75.0</td>\n      <td>3.6</td>\n      <td>PT</td>\n      <td>1.601638e+09</td>\n    </tr>\n  </tbody>\n</table>\n</div>"
     },
     "metadata": {},
     "execution_count": 2
    }
   ],
   "source": [
    "# Read into city weather data csv\n",
    "city_weather_data_df = pd.read_csv(\"Resources/city_weather_data.csv\")\n",
    "city_weather_data_df.head()"
   ]
  },
  {
   "cell_type": "code",
   "execution_count": 3,
   "metadata": {},
   "outputs": [],
   "source": [
    "# Convert cities weather data to html\n",
    "city_weather_data_df.to_html(\"city_weather_data.html\")"
   ]
  },
  {
   "cell_type": "code",
   "execution_count": null,
   "metadata": {},
   "outputs": [],
   "source": []
  }
 ]
}